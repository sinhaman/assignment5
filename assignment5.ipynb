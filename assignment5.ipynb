{
 "cells": [
  {
   "cell_type": "markdown",
   "id": "55b8a013",
   "metadata": {},
   "source": [
    "Q1. What is the difference between interpreted and compiled languages?\n",
    "ans:The main difference between interpreted and compiled languages lies in how the code is executed:\n",
    "\n",
    "1. Compiled Languages:\n",
    "Compilation Process: In a compiled language, the source code is translated into machine code (binary code) by a compiler before execution. This machine code is usually specific to the platform and can be executed directly by the computer's CPU.\n",
    "\n",
    "Execution: Once compiled, the program can be run multiple times without needing to recompile, which makes the execution faster.\n",
    "\n",
    "Examples: C, C++, Rust, Go, and Swift.\n",
    "\n",
    "2. Interpreted Languages:\n",
    "Interpretation Process: In an interpreted language, the source code is executed line-by-line or instruction-by-instruction by an interpreter. It does not compile into machine code ahead of time.\n",
    "\n",
    "Execution: The program requires the interpreter to run, and this means the code is typically slower because it is being translated on the fly.\n",
    "\n",
    "Examples: Python, JavaScript, Ruby, PHP, and Shell scripting.\n",
    "\n"
   ]
  },
  {
   "cell_type": "markdown",
   "id": "429380f9",
   "metadata": {},
   "source": [
    "Q2. What is exception handling in Python?\n",
    "ans:Exception handling in Python is a way to deal with runtime errors (also called exceptions) that may occur during the execution of a program. Instead of letting the program crash when an error occurs, Python provides mechanisms to gracefully handle these errors using try, except, else, and finally blocks."
   ]
  },
  {
   "cell_type": "markdown",
   "id": "ec3b826d",
   "metadata": {},
   "source": [
    "Q3. What is the purpose of the finally block in exception handling?\n",
    "ANS:The finally block in exception handling is used to define code that will always be executed, regardless of whether an exception was raised or not. It runs after the try and except blocks, but before the program continues to the next statements outside the try-except-finally structure.\n",
    "\n",
    "Purpose of the finally Block:\n",
    "Cleanup Operations: It is typically used for tasks that need to be performed no matter what, such as closing files, releasing network resources, or cleaning up memory.\n",
    "\n",
    "Guaranteed Execution: The code inside the finally block will execute no matter what happens in the try or except blocks, ensuring that important finalization steps are not skipped, even if an exception is raised."
   ]
  },
  {
   "cell_type": "markdown",
   "id": "d045d500",
   "metadata": {},
   "source": [
    "Q4.What is logging in Python?\n",
    "ANS:Logging in Python is the process of tracking and recording events, messages, or errors that occur while your program is running. It provides a way to generate and manage log messages, which can help you debug, monitor, and analyze the behavior of your program during development or in production environments.\n",
    "\n",
    "Python provides a built-in logging module that is very flexible and can be used to log messages at different severity levels, write logs to various outputs (e.g., files, console, or remote servers), and more."
   ]
  },
  {
   "cell_type": "markdown",
   "id": "255cc1cb",
   "metadata": {},
   "source": [
    "Q5.What is the significance of the __del__ method in Python?\n",
    "ANS:The __del__ method in Python is a destructor method, which is automatically called when an object is about to be destroyed or garbage collected. It is part of Python's object lifecycle management. This method allows you to perform any necessary cleanup actions before the object is removed from memory, such as releasing resources, closing files, or freeing up memory."
   ]
  },
  {
   "cell_type": "markdown",
   "id": "699ee099",
   "metadata": {},
   "source": [
    "Q6.What is the difference between import and from ... import in Python?\n",
    "ANS:1. import Statement:\n",
    "The import statement is used to load an entire module into your script. Once the module is imported, you access its functions, classes, or variables by prefixing them with the module name.\n",
    "\n",
    "2. from ... import Statement:\n",
    "The from ... import statement allows you to import specific components (functions, classes, variables) from a module directly into your script’s namespace, so you don’t need to use the module name as a prefix to access them."
   ]
  },
  {
   "cell_type": "markdown",
   "id": "0becbcfc",
   "metadata": {},
   "source": [
    "Q7.How can you handle multiple exceptions in Python?\n",
    "ANS:In Python, you can handle multiple exceptions by using several different techniques. Python allows you to catch different types of exceptions and handle them appropriately in various ways. The most common approach is to use multiple except blocks, but there are also other ways to handle multiple exceptions, like using tuple-based handling or using a single except block."
   ]
  },
  {
   "cell_type": "markdown",
   "id": "d344893e",
   "metadata": {},
   "source": [
    "Q8.What is the purpose of the with statement when handling files in Python?\n",
    "ANS:The with statement in Python is used to simplify resource management, specifically for working with files and other resources (like database connections, network connections, or locks) that require cleanup after use. When handling files, the with statement ensures that the file is properly opened and closed, even if an error occurs during the file operations."
   ]
  },
  {
   "cell_type": "markdown",
   "id": "8a334321",
   "metadata": {},
   "source": [
    "Q9.What is the difference between multithreading and multiprocessing?\n",
    "ANS:Multithreading: Involves multiple threads within a single process. A thread is the smallest unit of execution within a process. All threads within the same process share the same memory space, which makes it easier to share data but also introduces the potential for conflicts due to the shared memory space (e.g., race conditions).\n",
    "\n",
    "Multiprocessing: Involves multiple processes, where each process runs independently and has its own memory space. Each process has its own Python interpreter and memory, which makes multiprocessing suitable for CPU-bound tasks that benefit from true parallelism.\n"
   ]
  },
  {
   "cell_type": "markdown",
   "id": "e6c45892",
   "metadata": {},
   "source": [
    "Q10.What are the advantages of using logging in a program?\n",
    "ANS:Using logging in a program has several important advantages over simply using print statements for debugging or tracking program behavior. The logging module in Python provides a flexible framework for emitting log messages from your code. These log messages can help with troubleshooting, monitoring, and maintaining your code. Below are the key advantages of using logging:"
   ]
  },
  {
   "cell_type": "markdown",
   "id": "5a56e93c",
   "metadata": {},
   "source": [
    "Q11.What is memory management in Python?\n",
    "ANS:Memory management in Python refers to the way the Python interpreter handles the allocation and deallocation of memory during the execution of a program. Python uses a combination of automatic memory management techniques to manage memory efficiently and prevent memory-related errors. These techniques are designed to make sure that memory is allocated when needed and freed when no longer required."
   ]
  },
  {
   "cell_type": "markdown",
   "id": "1502a5de",
   "metadata": {},
   "source": [
    "Q12.F What are the basic steps involved in exception handling in Python?\n",
    "ANS:In Python, exception handling is a mechanism that allows you to gracefully handle errors during program execution, instead of letting the program crash. The basic steps involved in exception handling are:\n",
    "\n",
    "1. Try Block:\n",
    "The first step is to place the code that might raise an exception inside a try block. The code within this block will be executed normally.\n",
    "\n",
    "If no exception occurs, the program continues as normal. If an exception is raised, the control is passed to the corresponding except block.\n",
    "2. Except Block:\n",
    "If an exception occurs inside the try block, the program jumps to the except block. Here, you specify the type of exception you want to catch and handle.\n",
    "\n",
    "You can catch specific exceptions (e.g., ZeroDivisionError, ValueError) or use a general except block to catch all exceptions.\n",
    "3. Else Block:\n",
    "The else block (optional) is executed if no exceptions were raised in the try block.\n",
    "\n",
    "This is useful for code that should run only when there are no errors (e.g., code that should execute after a successful operation).\n",
    "\n",
    "4. Finally Block:\n",
    "The finally block (optional) is used to execute code that should run regardless of whether an exception occurred or not. This is often used for cleanup actions, such as closing files, releasing resources, or disconnecting from databases.\n",
    "\n",
    "The finally block will always execute after the try block, even if there was an exception."
   ]
  },
  {
   "cell_type": "markdown",
   "id": "e013cd97",
   "metadata": {},
   "source": [
    "Q13.Why is memory management important in Python?\n",
    "ANS:Memory management in Python is crucial for several reasons, as it directly affects the performance, efficiency, and reliability of your programs. Here are the key reasons why memory management is important:\n",
    "\n",
    "1. Efficient Use of Resources:\n",
    "Memory is a finite resource. If a program uses too much memory or doesn't release it when it's no longer needed, it can lead to memory exhaustion or slowdowns, causing your program (or even your entire system) to crash.\n",
    "\n",
    "Proper memory management ensures that memory is allocated efficiently and released when it's no longer needed, preventing resource wastage.\n",
    "\n",
    "2. Preventing Memory Leaks:\n",
    "Memory leaks occur when a program continuously consumes memory without releasing it back to the system. Over time, this can cause the program to use up all available memory, leading to crashes or slowdowns.\n",
    "\n",
    "In Python, the garbage collector and reference counting mechanisms help automatically manage memory, but developers still need to be aware of situations where memory might not be freed properly, like in the case of cyclic references.\n",
    "\n",
    "3. Performance Optimization:\n",
    "Efficient memory management can optimize performance by ensuring that objects are stored and retrieved in memory efficiently. Improper memory management can slow down your program, especially when working with large data sets or in performance-critical applications.\n",
    "\n",
    "For instance, memory pooling for small objects helps reduce the overhead of repeated memory allocations and deallocations, which improves the overall performance of Python programs."
   ]
  },
  {
   "cell_type": "markdown",
   "id": "5660f26f",
   "metadata": {},
   "source": [
    "Q14.What is the role of try and except in exception handling?\n",
    "ANS:1. try Block:\n",
    "The try block contains the code that you suspect might raise an exception (an error).\n",
    "\n",
    "Python will attempt to run the code inside the try block. If no error occurs, the program continues executing the remaining code after the try block.\n",
    "\n",
    "If an exception is raised while executing the code in the try block, the normal flow of execution is interrupted, and Python will look for a corresponding except block to handle the exception.\n",
    "2. except Block:\n",
    "The except block is used to catch and handle exceptions that are raised in the try block.\n",
    "\n",
    "When an exception is raised in the try block, Python will look for an except block that matches the type of exception raised.\n",
    "\n",
    "If a matching exception is found, the code inside the except block will execute. This is where you can handle the exception by logging it, displaying a custom error message, or performing any other corrective actions."
   ]
  },
  {
   "cell_type": "markdown",
   "id": "167159bb",
   "metadata": {},
   "source": [
    "Q15.How does Python's garbage collection system work?\n",
    "ANS:Python's garbage collection system is designed to automatically manage memory and clean up objects that are no longer needed, helping to avoid memory leaks and ensure efficient memory usage. Python uses a combination of reference counting and a garbage collector (GC) to manage the lifetime of objects in memory."
   ]
  },
  {
   "cell_type": "markdown",
   "id": "54f25440",
   "metadata": {},
   "source": [
    "Q16. What is the purpose of the else block in exception handling?\n",
    "ANS:The else block in exception handling in Python serves a specific purpose: it allows you to write code that should execute only if no exception was raised in the try block. If the code in the try block runs without any errors, the else block will be executed.\n",
    "\n",
    "The else block is particularly useful for separating the normal flow of execution (the code that runs successfully) from the error handling code. This makes the code easier to read and maintain by clearly distinguishing between error handling and successful execution."
   ]
  },
  {
   "cell_type": "markdown",
   "id": "f8ba56a0",
   "metadata": {},
   "source": [
    "Q17.What are the common logging levels in Python?\n",
    "ANS:Here are the common logging levels in Python, listed from the most detailed to the least detailed:\n",
    "\n",
    "1. DEBUG:\n",
    "Purpose: Used for detailed debugging information. These messages are typically used for troubleshooting and understanding the flow of the program.\n",
    "\n",
    "Level: The lowest logging level, useful for detailed diagnostic information, often used during development.\n",
    "\n",
    "Example: This level will capture all types of log messages (including DEBUG, INFO, WARNING, ERROR, and CRITICAL).\n",
    "2. INFO:\n",
    "Purpose: Used for informational messages that highlight the progress of the application. These are often used to log normal operation or milestones in the application.\n",
    "\n",
    "Level: A medium level of logging, typically used to report events that are part of the regular functioning of the program.\n",
    "\n",
    "Example: This level will capture INFO, WARNING, ERROR, and CRITICAL messages, but not DEBUG.\n",
    "3. WARNING:\n",
    "Purpose: Used to indicate potential issues or situations that are not errors but may need attention. These messages are less severe than errors but still worth noting.\n",
    "\n",
    "Level: A higher level than INFO. It’s used for events that could potentially lead to problems.\n",
    "\n",
    "Example: This level will capture WARNING, ERROR, and CRITICAL messages, but not INFO or DEBUG.\n",
    "\n",
    "4. ERROR:\n",
    "Purpose: Used for logging errors in the application that are not critical but still need attention. This is used when an exception or problem occurs that affects the program’s execution, but the program can continue.\n",
    "\n",
    "Level: A high level of logging. Used for capturing runtime errors or situations that cause problems in the application but don’t cause a crash.\n",
    "\n",
    "Example: This level will capture ERROR and CRITICAL messages, but not INFO, DEBUG, or WARNING.\n",
    "issues that cause the program to malfunction or behave incorrectly.\n",
    "\n",
    "5. CRITICAL:\n",
    "Purpose: Used for the most severe errors, typically those that cause the program to terminate or behave unpredictably. These are usually critical issues that require immediate attention.\n",
    "\n",
    "Level: The highest logging level. These messages are typically logged when the application encounters a severe problem, such as system crashes or loss of critical resources.\n",
    "\n",
    "Example: This level will capture only CRITICAL messages, but not DEBUG, INFO, WARNING, or ERROR.\n",
    "\n",
    "python\n",
    "Copy\n",
    "\n",
    "\n"
   ]
  },
  {
   "cell_type": "markdown",
   "id": "a348d886",
   "metadata": {},
   "source": [
    "Q18.What is the difference between os.fork() and multiprocessing in Python?\n",
    "ANS:1. os.fork():\n",
    "os.fork() is a low-level system call that is used to create a child process by duplicating the current process. The new child process is a copy of the parent process, with its own process ID (PID). It is available only on Unix-like systems (Linux, macOS), and not on Windows.\n",
    "2. multiprocessing:\n",
    "The multiprocessing module is a high-level Python module designed to make it easier to spawn processes and manage inter-process communication and synchronization across multiple processes. It works on both Unix-like systems and Windows, which makes it more portable than os.fork()."
   ]
  },
  {
   "cell_type": "markdown",
   "id": "8ad9f4c1",
   "metadata": {},
   "source": [
    "Q19.What is the importance of closing a file in Python?\n",
    "ANS:Closing a file in Python is an important step when working with files, as it ensures that all resources used by the file are properly released. Failing to close a file can lead to a variety of issues, some of which can cause serious problems in your program.\n"
   ]
  },
  {
   "cell_type": "markdown",
   "id": "ea17f093",
   "metadata": {},
   "source": [
    "Q20,What is the difference between file.read() and file.readline() in Python?\n",
    "ANS:1. file.read():\n",
    "Reads the entire file (or a specified number of bytes).\n",
    "\n",
    "It reads the entire content of the file into a single string.\n",
    "\n",
    "You can also specify the number of bytes to read by passing an argument to read(). For example, file.read(10) will read the first 10 bytes from the file.\n",
    "\n",
    "Returns: A single string containing all the content of the file (or the specified number of bytes).\n",
    "2. file.readline():\n",
    "Reads one line at a time from the file.\n",
    "\n",
    "It reads a single line from the file, including the newline character (\\n) at the end of the line.\n",
    "\n",
    "Each call to readline() returns the next line of the file until the end of the file is reached, at which point it returns an empty string.\n",
    "\n",
    "Returns: A string containing the next line of the file, or an empty string if the end of the file is reached.\n",
    "\n",
    "Example of file.readline():\n",
    "\n",
    "\n"
   ]
  },
  {
   "cell_type": "markdown",
   "id": "11fbe51d",
   "metadata": {},
   "source": [
    "Q21.What is the logging module in Python used for?\n",
    "ANS:The logging module in Python is used to track events that happen during the execution of a program. It provides a flexible framework for logging messages from various parts of your program, making it easier to monitor, debug, and troubleshoot applications. Logging is crucial for understanding the flow of a program, diagnosing issues, and providing insight into what the program is doing at any given moment."
   ]
  },
  {
   "cell_type": "markdown",
   "id": "8f14818a",
   "metadata": {},
   "source": [
    "Q22.What is the os module in Python used for in file handling?\n",
    "ANS:The os module in Python is a standard library module that provides a way to interact with the operating system. When it comes to file handling, the os module provides functions that allow you to perform operations like navigating the filesystem, checking file properties, creating and removing files and directories, and more. These functions are especially useful for tasks that involve the operating system beyond just reading and writing data to files."
   ]
  },
  {
   "cell_type": "markdown",
   "id": "c0aa6d51",
   "metadata": {},
   "source": [
    "Q23,What are the challenges associated with memory management in Python?\n",
    "ANS:1. Automatic Memory Management (Garbage Collection):\n",
    "Challenge: Python uses automatic memory management, which is based on reference counting and a garbage collector to reclaim memory. While this helps developers by abstracting away memory management tasks, it can also create challenges:\n",
    "\n",
    "Circular References: Objects that reference each other in a cycle (e.g., object A references object B, and object B references object A) will not be cleaned up by reference counting, as their reference count will never drop to zero.\n",
    "\n",
    "Python’s garbage collector handles these circular references, but its periodic cleaning may not always run at the most optimal times, leading to memory usage spikes.\n",
    "\n",
    "There might be delayed garbage collection, leading to memory usage remaining high until the garbage collector runs.\n",
    "2. Memory Leaks:\n",
    "Challenge: Memory leaks occur when memory is not released even after objects are no longer needed. In Python, memory leaks can happen due to:\n",
    "\n",
    "Unintentional References: If objects are unintentionally referenced (e.g., stored in global variables or lists) or if circular references are not cleaned up, Python’s garbage collector may not be able to reclaim memory.\n",
    "\n",
    "External C Extensions: Memory leaks may also occur due to bugs in C extensions or third-party libraries, which may not properly release memory when Python objects are no longer in use."
   ]
  },
  {
   "cell_type": "markdown",
   "id": "8902b1ac",
   "metadata": {},
   "source": [
    "Q24.How do you raise an exception manually in Python?\n",
    "ANS:In Python, you can raise an exception manually using the raise statement. This allows you to trigger an exception when a certain condition or error occurs in your code, rather than waiting for Python to encounter an error naturally."
   ]
  },
  {
   "cell_type": "markdown",
   "id": "599a615e",
   "metadata": {},
   "source": [
    "Q25.Why is it important to use multithreading in certain applications?\n",
    "ANS:Using multithreading in certain applications is important because it allows for more efficient execution of tasks, especially when dealing with scenarios where multiple tasks can run concurrently. The benefits of multithreading are particularly significant for I/O-bound tasks, and in some cases, CPU-bound tasks, depending on the architecture and design of the application."
   ]
  },
  {
   "cell_type": "markdown",
   "id": "bd000142",
   "metadata": {},
   "source": [
    "PRACTICAL QUESTIONS"
   ]
  },
  {
   "cell_type": "markdown",
   "id": "76497169",
   "metadata": {},
   "source": [
    "Q1. How can you open a file for writing in Python and write a string to iT?\n",
    "# Open the file in write mode\n",
    "with open('example.txt', 'w') as file:\n",
    "    # Write a string to the file\n",
    "    file.write('Hello, this is a test string!')\n"
   ]
  },
  {
   "cell_type": "code",
   "execution_count": null,
   "id": "47a580be",
   "metadata": {},
   "outputs": [],
   "source": [
    "Q2.Write a Python program to read the contents of a file and print each line?\n",
    "# Open the file in read mode\n",
    "with open('example.txt', 'r') as file:\n",
    "    # Loop through each line in the file\n",
    "    for line in file:\n",
    "        # Print each line\n",
    "        print(line, end='')  # `end=''` is used to avoid adding an extra newline\n"
   ]
  },
  {
   "cell_type": "code",
   "execution_count": null,
   "id": "c85da344",
   "metadata": {},
   "outputs": [],
   "source": [
    "Q3.How would you handle a case where the file doesn't exist while trying to open it for reading?\n",
    "try:\n",
    "    # Attempt to open the file in read mode\n",
    "    with open('example.txt', 'r') as file:\n",
    "        # Loop through each line in the file\n",
    "        for line in file:\n",
    "            # Print each line\n",
    "            print(line, end='')  # `end=''` avoids adding an extra newline\n",
    "except FileNotFoundError:\n",
    "    # Handle the case where the file does not exist\n",
    "    print(\"Error: The file 'example.txt' does not exist.\")\n"
   ]
  },
  {
   "cell_type": "code",
   "execution_count": null,
   "id": "4977160c",
   "metadata": {},
   "outputs": [],
   "source": [
    "Q4.Write a Python script that reads from one file and writes its content to another file?\n",
    "try:\n",
    "    # Open the source file in read mode\n",
    "    with open('source.txt', 'r') as source_file:\n",
    "        # Read the content of the source file\n",
    "        content = source_file.read()\n",
    "    \n",
    "    # Open the destination file in write mode\n",
    "    with open('destination.txt', 'w') as destination_file:\n",
    "        # Write the content to the destination file\n",
    "        destination_file.write(content)\n",
    "    \n",
    "    print(\"File contents copied successfully.\")\n",
    "\n",
    "except FileNotFoundError:\n",
    "    print(\"Error: The source file does not exist.\")\n",
    "except Exception as e:\n",
    "    print(f\"An error occurred: {e}\")\n"
   ]
  },
  {
   "cell_type": "code",
   "execution_count": null,
   "id": "2a1cdfb0",
   "metadata": {},
   "outputs": [],
   "source": [
    "Q5.How would you catch and handle division by zero error in Python?\n",
    "try:\n",
    "    # Attempt to perform division\n",
    "    numerator = 10\n",
    "    denominator = 0\n",
    "    result = numerator / denominator\n",
    "    print(\"The result is:\", result)\n",
    "except ZeroDivisionError:\n",
    "    # Handle division by zero error\n",
    "    print(\"Error: Division by zero is not allowed.\")\n"
   ]
  },
  {
   "cell_type": "code",
   "execution_count": null,
   "id": "47f67e72",
   "metadata": {},
   "outputs": [],
   "source": [
    "Q6.Write a Python program that logs an error message to a log file when a division by zero exception occurs?\n",
    "import logging\n",
    "\n",
    "# Set up logging configuration\n",
    "logging.basicConfig(\n",
    "    filename='error_log.txt',  # Log messages will be written to this file\n",
    "    level=logging.ERROR,       # Log only ERROR and above level messages\n",
    "    format='%(asctime)s - %(levelname)s - %(message)s'  # Log format\n",
    ")\n",
    "\n",
    "try:\n",
    "    # Attempt to perform division\n",
    "    numerator = 10\n",
    "    denominator = 0\n",
    "    result = numerator / denominator\n",
    "    print(\"The result is:\", result)\n",
    "except ZeroDivisionError as e:\n",
    "    # Log the error message to the log file\n",
    "    logging.error(\"Attempted division by zero. Error: %s\", e)\n",
    "    print(\"Error: Division by zero. Check the log file for details.\")\n"
   ]
  },
  {
   "cell_type": "code",
   "execution_count": 1,
   "id": "ffde8147",
   "metadata": {},
   "outputs": [],
   "source": [
    "# Q How do you log information at different levels (INFO, ERROR, WARNING) in Python using the logging module?\n",
    "import logging\n",
    "\n",
    "# Set up logging configuration\n",
    "logging.basicConfig(\n",
    "    filename='app_log.txt',   # Log messages will be written to this file\n",
    "    level=logging.DEBUG,      # Set the log level to DEBUG to capture all levels\n",
    "    format='%(asctime)s - %(levelname)s - %(message)s'  # Format for log messages\n",
    ")\n",
    "\n",
    "# Logging messages at different levels\n",
    "\n",
    "# INFO level log message\n",
    "logging.info(\"This is an informational message.\")\n",
    "\n",
    "# WARNING level log message\n",
    "logging.warning(\"This is a warning message.\")\n",
    "\n",
    "# ERROR level log message\n",
    "logging.error(\"This is an error message.\")\n",
    "\n",
    "# CRITICAL level log message\n",
    "logging.critical(\"This is a critical error message.\")\n",
    "\n",
    "# DEBUG level log message\n",
    "logging.debug(\"This is a debug message, useful for debugging.\")\n"
   ]
  },
  {
   "cell_type": "code",
   "execution_count": null,
   "id": "a9c9eac4",
   "metadata": {},
   "outputs": [],
   "source": [
    "Q8.Write a program to handle a file opening error using exception handling?\n",
    "try:\n",
    "    # Attempt to open a file in read mode\n",
    "    with open('non_existent_file.txt', 'r') as file:\n",
    "        # Read the content of the file\n",
    "        content = file.read()\n",
    "        print(content)\n",
    "except FileNotFoundError:\n",
    "    # Handle the case where the file does not exist\n",
    "    print(\"Error: The file was not found.\")\n",
    "except PermissionError:\n",
    "    # Handle the case where there are insufficient permissions to read the file\n",
    "    print(\"Error: You do not have permission to open this file.\")\n",
    "except Exception as e:\n",
    "    # Handle any other unexpected exceptions\n",
    "    print(f\"An unexpected error occurred: {e}\")\n"
   ]
  },
  {
   "cell_type": "code",
   "execution_count": 2,
   "id": "59d65d80",
   "metadata": {},
   "outputs": [
    {
     "name": "stdout",
     "output_type": "stream",
     "text": [
      "Object `Python` not found.\n"
     ]
    },
    {
     "ename": "FileNotFoundError",
     "evalue": "[Errno 2] No such file or directory: 'example.txt'",
     "output_type": "error",
     "traceback": [
      "\u001b[31m---------------------------------------------------------------------------\u001b[39m",
      "\u001b[31mFileNotFoundError\u001b[39m                         Traceback (most recent call last)",
      "\u001b[36mCell\u001b[39m\u001b[36m \u001b[39m\u001b[32mIn[2]\u001b[39m\u001b[32m, line 6\u001b[39m\n\u001b[32m      3\u001b[39m lines_list = []\n\u001b[32m      5\u001b[39m \u001b[38;5;66;03m# Open the file in read mode\u001b[39;00m\n\u001b[32m----> \u001b[39m\u001b[32m6\u001b[39m \u001b[38;5;28;01mwith\u001b[39;00m \u001b[38;5;28;43mopen\u001b[39;49m\u001b[43m(\u001b[49m\u001b[33;43m'\u001b[39;49m\u001b[33;43mexample.txt\u001b[39;49m\u001b[33;43m'\u001b[39;49m\u001b[43m,\u001b[49m\u001b[43m \u001b[49m\u001b[33;43m'\u001b[39;49m\u001b[33;43mr\u001b[39;49m\u001b[33;43m'\u001b[39;49m\u001b[43m)\u001b[49m \u001b[38;5;28;01mas\u001b[39;00m file:\n\u001b[32m      7\u001b[39m     \u001b[38;5;66;03m# Loop through each line in the file\u001b[39;00m\n\u001b[32m      8\u001b[39m     \u001b[38;5;28;01mfor\u001b[39;00m line \u001b[38;5;129;01min\u001b[39;00m file:\n\u001b[32m      9\u001b[39m         \u001b[38;5;66;03m# Append each line to the list (strip newline characters)\u001b[39;00m\n\u001b[32m     10\u001b[39m         lines_list.append(line.strip())  \u001b[38;5;66;03m# `strip()` removes leading/trailing whitespace\u001b[39;00m\n",
      "\u001b[36mFile \u001b[39m\u001b[32m~\\AppData\\Roaming\\Python\\Python313\\site-packages\\IPython\\core\\interactiveshell.py:325\u001b[39m, in \u001b[36m_modified_open\u001b[39m\u001b[34m(file, *args, **kwargs)\u001b[39m\n\u001b[32m    318\u001b[39m \u001b[38;5;28;01mif\u001b[39;00m file \u001b[38;5;129;01min\u001b[39;00m {\u001b[32m0\u001b[39m, \u001b[32m1\u001b[39m, \u001b[32m2\u001b[39m}:\n\u001b[32m    319\u001b[39m     \u001b[38;5;28;01mraise\u001b[39;00m \u001b[38;5;167;01mValueError\u001b[39;00m(\n\u001b[32m    320\u001b[39m         \u001b[33mf\u001b[39m\u001b[33m\"\u001b[39m\u001b[33mIPython won\u001b[39m\u001b[33m'\u001b[39m\u001b[33mt let you open fd=\u001b[39m\u001b[38;5;132;01m{\u001b[39;00mfile\u001b[38;5;132;01m}\u001b[39;00m\u001b[33m by default \u001b[39m\u001b[33m\"\u001b[39m\n\u001b[32m    321\u001b[39m         \u001b[33m\"\u001b[39m\u001b[33mas it is likely to crash IPython. If you know what you are doing, \u001b[39m\u001b[33m\"\u001b[39m\n\u001b[32m    322\u001b[39m         \u001b[33m\"\u001b[39m\u001b[33myou can use builtins\u001b[39m\u001b[33m'\u001b[39m\u001b[33m open.\u001b[39m\u001b[33m\"\u001b[39m\n\u001b[32m    323\u001b[39m     )\n\u001b[32m--> \u001b[39m\u001b[32m325\u001b[39m \u001b[38;5;28;01mreturn\u001b[39;00m \u001b[43mio_open\u001b[49m\u001b[43m(\u001b[49m\u001b[43mfile\u001b[49m\u001b[43m,\u001b[49m\u001b[43m \u001b[49m\u001b[43m*\u001b[49m\u001b[43margs\u001b[49m\u001b[43m,\u001b[49m\u001b[43m \u001b[49m\u001b[43m*\u001b[49m\u001b[43m*\u001b[49m\u001b[43mkwargs\u001b[49m\u001b[43m)\u001b[49m\n",
      "\u001b[31mFileNotFoundError\u001b[39m: [Errno 2] No such file or directory: 'example.txt'"
     ]
    }
   ],
   "source": [
    "Q9,How can you read a file line by line and store its content in a list in Python?\n",
    "# Initialize an empty list to store the lines\n",
    "lines_list = []\n",
    "\n",
    "# Open the file in read mode\n",
    "with open('example.txt', 'r') as file:\n",
    "    # Loop through each line in the file\n",
    "    for line in file:\n",
    "        # Append each line to the list (strip newline characters)\n",
    "        lines_list.append(line.strip())  # `strip()` removes leading/trailing whitespace\n",
    "\n",
    "# Print the content of the list\n",
    "print(lines_list)\n"
   ]
  },
  {
   "cell_type": "code",
   "execution_count": null,
   "id": "b77f6565",
   "metadata": {},
   "outputs": [],
   "source": [
    "\n",
    "Q10.How can you append data to an existing file in Python?\n",
    "# Data to append to the file\n",
    "data_to_append = \"This is a new line of text.\"\n",
    "\n",
    "# Open the file in append mode\n",
    "with open('example.txt', 'a') as file:\n",
    "    # Write the data to the file\n",
    "    file.write(data_to_append + '\\n')  # Adding a newline character after the data\n",
    "\n",
    "print(\"Data has been appended to the file.\")\n"
   ]
  },
  {
   "cell_type": "code",
   "execution_count": 3,
   "id": "2a7da083",
   "metadata": {},
   "outputs": [
    {
     "ename": "SyntaxError",
     "evalue": "unterminated string literal (detected at line 2) (1584590505.py, line 2)",
     "output_type": "error",
     "traceback": [
      "  \u001b[36mCell\u001b[39m\u001b[36m \u001b[39m\u001b[32mIn[3]\u001b[39m\u001b[32m, line 2\u001b[39m\n\u001b[31m    \u001b[39m\u001b[31mdictionary key that doesn't exist\u001b[39m\n                             ^\n\u001b[31mSyntaxError\u001b[39m\u001b[31m:\u001b[39m unterminated string literal (detected at line 2)\n"
     ]
    }
   ],
   "source": [
    "Q11.Write a Python program that uses a try-except block to handle an error when attempting to access a\n",
    "dictionary key that doesn't exist\n",
    "# Sample dictionary\n",
    "my_dict = {'name': 'John', 'age': 30}\n",
    "\n",
    "# Attempt to access a key that may not exist\n",
    "try:\n",
    "    # Trying to access a key that doesn't exist\n",
    "    value = my_dict['address']\n",
    "    print(\"The value is:\", value)\n",
    "except KeyError:\n",
    "    # Handle the case where the key doesn't exist\n",
    "    print(\"Error: The key does not exist in the dictionary.\")\n"
   ]
  },
  {
   "cell_type": "code",
   "execution_count": null,
   "id": "901fede0",
   "metadata": {},
   "outputs": [],
   "source": [
    "Q12. Write a program that demonstrates using multiple except blocks to handle different types of exceptions\n",
    "try:\n",
    "    # Prompt user for input\n",
    "    num1 = int(input(\"Enter the first number: \"))  # This may raise ValueError\n",
    "    num2 = int(input(\"Enter the second number: \"))  # This may raise ValueError\n",
    "    \n",
    "    # Attempt division, which may raise ZeroDivisionError\n",
    "    result = num1 / num2\n",
    "    \n",
    "    print(\"The result of division is:\", result)\n",
    "\n",
    "except ValueError:\n",
    "    # Handle invalid input (non-integer input)\n",
    "    print(\"Error: Please enter a valid integer.\")\n",
    "\n",
    "except ZeroDivisionError:\n",
    "    # Handle division by zero\n",
    "    print(\"Error: Cannot divide by zero.\")\n",
    "\n",
    "except Exception as e:\n",
    "    # Handle any other unexpected errors\n",
    "    print(f\"An unexpected error occurred: {e}\")\n"
   ]
  },
  {
   "cell_type": "code",
   "execution_count": null,
   "id": "e22c8bc3",
   "metadata": {},
   "outputs": [],
   "source": [
    "Q13.How would you check if a file exists before attempting to read it in Python?\n",
    "import os\n",
    "\n",
    "# File path to check\n",
    "file_path = 'example.txt'\n",
    "\n",
    "# Check if the file exists\n",
    "if os.path.exists(file_path):\n",
    "    with open(file_path, 'r') as file:\n",
    "        content = file.read()\n",
    "        print(content)\n",
    "else:\n",
    "    print(f\"Error: The file '{file_path}' does not exist.\")\n",
    "\n"
   ]
  },
  {
   "cell_type": "code",
   "execution_count": null,
   "id": "199d90c2",
   "metadata": {},
   "outputs": [],
   "source": [
    "Q14. Write a program that uses the logging module to log both informational and error messages?\n",
    "import logging\n",
    "\n",
    "# Set up logging configuration\n",
    "logging.basicConfig(\n",
    "    filename='app_log.txt',   # Log messages will be saved to this file\n",
    "    level=logging.DEBUG,      # Capture all levels (DEBUG, INFO, WARNING, ERROR, CRITICAL)\n",
    "    format='%(asctime)s - %(levelname)s - %(message)s'  # Log format with timestamp\n",
    ")\n",
    "\n",
    "# Log an informational message\n",
    "logging.info(\"This is an informational message.\")\n",
    "\n",
    "# Log an error message\n",
    "logging.error(\"This is an error message.\")\n",
    "\n",
    "# Example of logging with try-except for error handling\n",
    "try:\n",
    "    # Simulate an error (divide by zero)\n",
    "    result = 10 / 0\n",
    "except ZeroDivisionError as e:\n",
    "    # Log the error with exception details\n",
    "    logging.error(\"An error occurred: %s\", e)\n",
    "\n",
    "print(\"Logging has been done. Check 'app_log.txt' for the log entries.\")\n"
   ]
  },
  {
   "cell_type": "code",
   "execution_count": null,
   "id": "0c52b109",
   "metadata": {},
   "outputs": [],
   "source": [
    "Q15.Write a Python program that prints the content of a file and handles the case when the file is empty?\n",
    "try:\n",
    "    # Open the file in read mode\n",
    "    with open('example.txt', 'r') as file:\n",
    "        content = file.read().strip()  # Read and remove leading/trailing whitespace\n",
    "        \n",
    "        if content:  # Check if the content is not empty\n",
    "            print(\"File Content:\")\n",
    "            print(content)\n",
    "        else:\n",
    "            print(\"The file is empty.\")\n",
    "            \n",
    "except FileNotFoundError:\n",
    "    print(\"Error: The file does not exist.\")\n",
    "except Exception as e:\n",
    "    print(f\"An unexpected error occurred: {e}\")\n"
   ]
  },
  {
   "cell_type": "code",
   "execution_count": null,
   "id": "1b9e0b53",
   "metadata": {},
   "outputs": [],
   "source": [
    "Q16.Demonstrate how to use memory profiling to check the memory usage of a small program?\n",
    "from memory_profiler import profile\n",
    "\n",
    "# Use the @profile decorator to mark the function for memory profiling\n",
    "@profile\n",
    "def example_function():\n",
    "    # Example list creation and manipulation\n",
    "    data = [i * 2 for i in range(100000)]\n",
    "    print(\"List created with length:\", len(data))\n",
    "    \n",
    "    # Another example of memory allocation\n",
    "    more_data = [i * 3 for i in range(50000)]\n",
    "    print(\"Second list created with length:\", len(more_data))\n",
    "    \n",
    "    return data, more_data\n",
    "\n",
    "if __name__ == '__main__':\n",
    "    # Run the function and profile its memory usage\n",
    "    example_function()\n"
   ]
  },
  {
   "cell_type": "code",
   "execution_count": null,
   "id": "3af8d414",
   "metadata": {},
   "outputs": [],
   "source": [
    "Q17.Write a Python program to create and write a list of numbers to a file, one number per line\n",
    "# List of numbers\n",
    "numbers = [1, 2, 3, 4, 5, 6, 7, 8, 9, 10]\n",
    "\n",
    "# Open a file in write mode ('w')\n",
    "with open('numbers.txt', 'w') as file:\n",
    "    # Iterate through the list of numbers and write each to a new line\n",
    "    for number in numbers:\n",
    "        file.write(f\"{number}\\n\")  # Writing the number followed by a newline\n",
    "\n",
    "print(\"Numbers have been written to 'numbers.txt'.\")\n"
   ]
  },
  {
   "cell_type": "code",
   "execution_count": null,
   "id": "1599a365",
   "metadata": {},
   "outputs": [],
   "source": [
    "Q18.How would you implement a basic logging setup that logs to a file with rotation after 1MB?\n",
    "import logging\n",
    "from logging.handlers import RotatingFileHandler\n",
    "\n",
    "# Set up a rotating file handler with a maximum file size of 1MB and 3 backup files\n",
    "log_handler = RotatingFileHandler('app.log', maxBytes=1*1024*1024, backupCount=3)  # 1MB = 1 * 1024 * 1024 bytes\n",
    "log_handler.setLevel(logging.INFO)\n",
    "\n",
    "# Create a formatter and set it for the handler\n",
    "formatter = logging.Formatter('%(asctime)s - %(levelname)s - %(message)s')\n",
    "log_handler.setFormatter(formatter)\n",
    "\n",
    "# Set up the logger\n",
    "logger = logging.getLogger()\n",
    "logger.setLevel(logging.INFO)\n",
    "logger.addHandler(log_handler)\n",
    "\n",
    "# Example log messages\n",
    "logger.info(\"This is an informational message.\")\n",
    "logger.error(\"This is an error message.\")\n",
    "logger.warning(\"This is a warning message.\")\n",
    "\n",
    "print(\"Logging has been set up with file rotation.\")\n",
    "\n"
   ]
  },
  {
   "cell_type": "code",
   "execution_count": null,
   "id": "914d65f5",
   "metadata": {},
   "outputs": [],
   "source": [
    "Q19. Write a program that handles both IndexError and KeyError using a try-except block?\n",
    "# Sample data\n",
    "my_list = [1, 2, 3]\n",
    "my_dict = {'a': 10, 'b': 20}\n",
    "\n",
    "try:\n",
    "    # Trying to access an index that may not exist\n",
    "    print(\"Accessing list element:\", my_list[5])  # This will raise IndexError\n",
    "\n",
    "    # Trying to access a key that may not exist\n",
    "    print(\"Accessing dictionary element:\", my_dict['c'])  # This will raise KeyError\n",
    "\n",
    "except IndexError as ie:\n",
    "    print(\"Caught an IndexError:\", ie)\n",
    "\n",
    "except KeyError as ke:\n",
    "    print(\"Caught a KeyError:\", ke)\n"
   ]
  },
  {
   "cell_type": "code",
   "execution_count": null,
   "id": "f562cc8f",
   "metadata": {},
   "outputs": [],
   "source": [
    "Q20.How would you open a file and read its contents using a context manager in Python?\n",
    "# Using a context manager to open and read a file\n",
    "file_path = 'example.txt'  # Path to the file you want to read\n",
    "\n",
    "with open(file_path, 'r') as file:\n",
    "    # Read the entire content of the file\n",
    "    content = file.read()\n",
    "    print(content)\n",
    "\n"
   ]
  },
  {
   "cell_type": "code",
   "execution_count": null,
   "id": "3eeeefce",
   "metadata": {},
   "outputs": [],
   "source": [
    "Q21.Write a Python program that reads a file and prints the number of occurrences of a specific word?\n",
    "# Define the file path and the word you want to count\n",
    "file_path = 'example.txt'  # Path to the file\n",
    "word_to_count = 'Python'   # Word to count in the file\n",
    "\n",
    "try:\n",
    "    # Open the file using a context manager\n",
    "    with open(file_path, 'r') as file:\n",
    "        content = file.read()  # Read the entire content of the file\n",
    "        \n",
    "    # Count occurrences of the word in the content (case insensitive)\n",
    "    word_count = content.lower().split().count(word_to_count.lower())\n",
    "    \n",
    "    print(f\"The word '{word_to_count}' appears {word_count} times in the file.\")\n",
    "    \n",
    "except FileNotFoundError:\n",
    "    print(f\"Error: The file '{file_path}' does not exist.\")\n",
    "except Exception as e:\n",
    "    print(f\"An error occurred: {e}\")\n"
   ]
  },
  {
   "cell_type": "code",
   "execution_count": null,
   "id": "149cb3f6",
   "metadata": {},
   "outputs": [],
   "source": [
    "Q22.How can you check if a file is empty before attempting to read its contents?\n",
    "import os\n",
    "\n",
    "# Define the file path\n",
    "file_path = 'example.txt'\n",
    "\n",
    "# Check if the file exists and is not empty\n",
    "if os.path.exists(file_path) and os.path.getsize(file_path) > 0:\n",
    "    # File is not empty, proceed to read its contents\n",
    "    with open(file_path, 'r') as file:\n",
    "        content = file.read()\n",
    "        print(\"File content:\")\n",
    "        print(content)\n",
    "else:\n",
    "    # Either the file doesn't exist or it's empty\n",
    "    if not os.path.exists(file_path):\n",
    "        print(f\"Error: The file '{file_path}' does not exist.\")\n",
    "    else:\n",
    "        print(f\"The file '{file_path}' is empty.\")\n"
   ]
  },
  {
   "cell_type": "code",
   "execution_count": null,
   "id": "cb8f1a13",
   "metadata": {},
   "outputs": [],
   "source": [
    "Q23.Write a Python program that writes to a log file when an error occurs during file handling.\n",
    "import logging\n",
    "\n",
    "# Set up logging configuration\n",
    "logging.basicConfig(\n",
    "    filename='error_log.txt',  # Log file where errors will be logged\n",
    "    level=logging.ERROR,       # Log only ERROR and higher-level messages\n",
    "    format='%(asctime)s - %(levelname)s - %(message)s'\n",
    ")\n",
    "\n",
    "def read_file(file_path):\n",
    "    try:\n",
    "        # Attempt to open and read the file\n",
    "        with open(file_path, 'r') as file:\n",
    "            content = file.read()\n",
    "            print(content)\n",
    "    except Exception as e:\n",
    "        # If any exception occurs, log it to the log file\n",
    "        logging.error(f\"Error occurred while handling the file '{file_path}': {str(e)}\")\n",
    "        print(f\"An error occurred. Please check the log file for details.\")\n",
    "\n",
    "def write_file(file_path, content):\n",
    "    try:\n",
    "        # Attempt to open and write to the file\n",
    "        with open(file_path, 'w') as file:\n",
    "            file.write(content)\n",
    "            print(f\"Content written to {file_path}\")\n",
    "    except Exception as e:\n",
    "        # If any exception occurs, log it to the log file\n",
    "        logging.error(f\"Error occurred while writing to the file '{file_path}': {str(e)}\")\n",
    "        print(f\"An error occurred. Please check the log file for details.\")\n",
    "\n",
    "# Example usage\n",
    "file_path_to_read = 'example.txt'\n",
    "file_path_to_write = 'output.txt'\n",
    "write_content = \"Hello, this is a test content.\"\n",
    "\n",
    "# Test reading from a file\n",
    "read_file(file_path_to_read)\n",
    "\n",
    "# Test writing to a file\n",
    "write_file(file_path_to_write, write_content)\n"
   ]
  }
 ],
 "metadata": {
  "kernelspec": {
   "display_name": "Python 3",
   "language": "python",
   "name": "python3"
  },
  "language_info": {
   "codemirror_mode": {
    "name": "ipython",
    "version": 3
   },
   "file_extension": ".py",
   "mimetype": "text/x-python",
   "name": "python",
   "nbconvert_exporter": "python",
   "pygments_lexer": "ipython3",
   "version": "3.13.2"
  }
 },
 "nbformat": 4,
 "nbformat_minor": 5
}
